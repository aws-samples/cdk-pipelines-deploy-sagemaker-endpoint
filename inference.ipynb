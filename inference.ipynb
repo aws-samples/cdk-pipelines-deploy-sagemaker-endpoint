{
 "cells": [
  {
   "cell_type": "markdown",
   "id": "bb465ba7",
   "metadata": {},
   "source": [
    "## Data <a id='data'></a>"
   ]
  },
  {
   "cell_type": "code",
   "execution_count": null,
   "id": "97df97ce",
   "metadata": {},
   "outputs": [],
   "source": [
    "import json\n",
    "\n",
    "with open('./cdk_pipelines/local/test/payload.json') as f:\n",
    "    payload = json.load(f)\n",
    "    print(payload)"
   ]
  },
  {
   "cell_type": "markdown",
   "id": "6982b423",
   "metadata": {},
   "source": [
    "## Inference"
   ]
  },
  {
   "cell_type": "code",
   "execution_count": null,
   "id": "083fec0e",
   "metadata": {},
   "outputs": [],
   "source": [
    "import boto3\n",
    "import json"
   ]
  },
  {
   "cell_type": "code",
   "execution_count": null,
   "id": "e13e2997",
   "metadata": {},
   "outputs": [],
   "source": [
    "import requests\n",
    "\n",
    "url = 'your-domain/prod/inference'  # Replace with the URL of your API Gateway endpoint for Inference in prod\n",
    "api_key = 'your-key'  # Replace with your API Key\n",
    "r = requests.post(url, headers={'x-api-key':api_key}, json=payload)\n",
    "print(r.status_code, r.reason)"
   ]
  },
  {
   "cell_type": "code",
   "execution_count": null,
   "id": "0682432d",
   "metadata": {},
   "outputs": [],
   "source": [
    "json.loads(r.text)"
   ]
  }
 ],
 "metadata": {
  "instance_type": "ml.t3.medium",
  "kernelspec": {
   "display_name": "Python 3 (Data Science)",
   "language": "python",
   "name": "python3__SAGEMAKER_INTERNAL__arn:aws:sagemaker:eu-west-1:470317259841:image/datascience-1.0"
  },
  "language_info": {
   "codemirror_mode": {
    "name": "ipython",
    "version": 3
   },
   "file_extension": ".py",
   "mimetype": "text/x-python",
   "name": "python",
   "nbconvert_exporter": "python",
   "pygments_lexer": "ipython3",
   "version": "3.7.10"
  }
 },
 "nbformat": 4,
 "nbformat_minor": 5
}
